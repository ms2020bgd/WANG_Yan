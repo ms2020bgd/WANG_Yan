{
 "cells": [
  {
   "cell_type": "code",
   "execution_count": 109,
   "metadata": {},
   "outputs": [
    {
     "name": "stderr",
     "output_type": "stream",
     "text": [
      "test_01_string_times (__main__.Lesson1Tests) ... ok\n",
      "test_02_is_leap_year (__main__.Lesson1Tests) ... FAIL\n",
      "test_03_array_front9 (__main__.Lesson1Tests) ... ok\n",
      "test_04_list_sqrt (__main__.Lesson1Tests) ... ok\n",
      "test_05_occurences (__main__.Lesson1Tests) ... FAIL\n",
      "test_06_length_words (__main__.Lesson1Tests) ... ok\n",
      "test_07_number_to_digits (__main__.Lesson1Tests) ... ERROR\n",
      "test_08_pig_latin (__main__.Lesson1Tests) ... ERROR\n",
      "test_09_extract_data (__main__.Lesson1Tests) ... ERROR\n",
      "\n",
      "======================================================================\n",
      "ERROR: test_07_number_to_digits (__main__.Lesson1Tests)\n",
      "----------------------------------------------------------------------\n",
      "Traceback (most recent call last):\n",
      "  File \"<ipython-input-109-3865e53f1b88>\", line 187, in test_07_number_to_digits\n",
      "    self.assertEqual(number_to_digits(2019), [2, 0, 1, 9])\n",
      "  File \"<ipython-input-109-3865e53f1b88>\", line 66, in number_to_digits\n",
      "    print(s[i in len(s)])\n",
      "NameError: name 'i' is not defined\n",
      "\n",
      "======================================================================\n",
      "ERROR: test_08_pig_latin (__main__.Lesson1Tests)\n",
      "----------------------------------------------------------------------\n",
      "Traceback (most recent call last):\n",
      "  File \"<ipython-input-109-3865e53f1b88>\", line 190, in test_08_pig_latin\n",
      "    self.assertEqual(pig_latin(\"Hello\"), \"Ellohay\")\n",
      "  File \"<ipython-input-109-3865e53f1b88>\", line 75, in pig_latin\n",
      "    word = word.append(word[0]).append(\"ay\")\n",
      "AttributeError: 'str' object has no attribute 'append'\n",
      "\n",
      "======================================================================\n",
      "ERROR: test_09_extract_data (__main__.Lesson1Tests)\n",
      "----------------------------------------------------------------------\n",
      "Traceback (most recent call last):\n",
      "  File \"<ipython-input-109-3865e53f1b88>\", line 199, in test_09_extract_data\n",
      "    result[0],\n",
      "TypeError: 'NoneType' object is not subscriptable\n",
      "\n",
      "======================================================================\n",
      "FAIL: test_02_is_leap_year (__main__.Lesson1Tests)\n",
      "----------------------------------------------------------------------\n",
      "Traceback (most recent call last):\n",
      "  File \"<ipython-input-109-3865e53f1b88>\", line 160, in test_02_is_leap_year\n",
      "    self.assertTrue(is_leap_year(2020))\n",
      "AssertionError: False is not true\n",
      "\n",
      "======================================================================\n",
      "FAIL: test_05_occurences (__main__.Lesson1Tests)\n",
      "----------------------------------------------------------------------\n",
      "Traceback (most recent call last):\n",
      "  File \"<ipython-input-109-3865e53f1b88>\", line 179, in test_05_occurences\n",
      "    {'h': 1, 'e': 1, 'l': 3, 'o': 2, ' ': 1, 'w': 1, 'r': 1, 'd': 1}\n",
      "AssertionError: None != {'h': 1, 'e': 1, 'l': 3, 'o': 2, ' ': 1, 'w': 1, 'r': 1, 'd': 1}\n",
      "\n",
      "----------------------------------------------------------------------\n",
      "Ran 9 tests in 0.025s\n",
      "\n",
      "FAILED (failures=2, errors=3)\n"
     ]
    }
   ],
   "source": [
    "import math\n",
    "import unittest\n",
    "#from collections import counter\n",
    "\n",
    "\n",
    "# Given a string and a non-negative int n, return a larger string\n",
    "# that is n copies of the original string.\n",
    "# Example: string_times(\"hey\", 3) should return \"heyheyhey\"\n",
    "def string_times(string, n):\n",
    "\n",
    "    return string*n\n",
    "\n",
    "\n",
    "# Write a function which returns True if a year is a leap year.\n",
    "# A year is leap year if:\n",
    "# - it is divisible by 4 AND indivisible by 100\n",
    "# or if:\n",
    "# - it is divisible by 400\n",
    "def is_leap_year(year):\n",
    "    return (year%4 ==0 and year%100 ==0 ) or year%400 == 0\n",
    "\n",
    "\n",
    "# Given a list of ints, return True if one of the first 4 elements\n",
    "# in the array is a 9. The list length may be less than 4.\n",
    "def array_front9(nums):\n",
    "    return 9 in nums[:4]\n",
    "        \n",
    "\n",
    "# Given a list of ints, return the list of their square root.\n",
    "def list_sqrtyang(nums):\n",
    "    for k in len(nums):\n",
    "        nums[k]= nums[k]*nums[k]\n",
    "    return nums\n",
    "\n",
    "def list_sqrt(nums):\n",
    "    return [math.sqrt(x) for x in nums]\n",
    "\n",
    "\n",
    "# Write a function which return a dict containing the number of time each letter\n",
    "# is present in the given text.\n",
    "def occurences(text):\n",
    "    \n",
    "    dict={}\n",
    "    for letter in text:\n",
    "        if letter in dict:\n",
    "            dict[letter]+=1\n",
    "            \n",
    "        else:\n",
    "            dict[letter]=1\n",
    "    return\n",
    "\n",
    "\n",
    "# Write a function that maps a list of words into a list of\n",
    "# integers representing the lengths of the corresponding words.\n",
    "def length_words(words):\n",
    "    listLen=[]\n",
    "    for word in words:\n",
    "        listLen.append(len(word))\n",
    "        \n",
    "    return listLen\n",
    "\n",
    "\n",
    "# Write a function that takes a number and returns a list of its digits.\n",
    "def number_to_digits(number):\n",
    "    s=str(number)\n",
    "    print(s[i in len(s)])\n",
    "    return \n",
    "\n",
    "\n",
    "# Write a function that translates a text from english to Pig Latin.\n",
    "# English is translated to Pig Latin by taking the first letter of every word,\n",
    "# moving it to the end of the word, and adding 'ay'.\n",
    "def pig_latin(text):\n",
    "    for word in text:\n",
    "        word = word.append(word[0]).append(\"ay\")\n",
    "    return text\n",
    "\n",
    "\n",
    "# Write a function which prints numbers from 1 to 100,\n",
    "# but which prints \"Fizz\" instead of multiple of 3,\n",
    "# \"Buzz\" instead of multiple of 5,\n",
    "# and \"FizzBuzz\" instead of multiple of 15\n",
    "def fizzbuzz():\n",
    "    for k in range(100):\n",
    "        if k%15 == 0:\n",
    "            print(Fizz)\n",
    "        elif k%5==0:\n",
    "            print(Buzz)\n",
    "        elif k%3==0:\n",
    "            print()\n",
    "    return\n",
    "\n",
    "\n",
    "weather_data = {\n",
    "    \"Paris\": {\n",
    "        \"weather_list\": [{\n",
    "            \"dt\": 1569434400,\n",
    "            \"main\": {\"temp\": 289.15, \"humidity\": 76},\n",
    "            \"dt_txt\": \"2019-09-25 18:00:00\"\n",
    "        }, {\n",
    "            \"dt\": 1569445200,\n",
    "            \"main\": {\n",
    "                \"temp\": 289.62,\n",
    "                \"humidity\": 87\n",
    "            },\n",
    "            \"dt_txt\": \"2019-09-25 21:00:00\"\n",
    "        }],\n",
    "        \"metadata\": {\n",
    "            \"coord\": {\"lat\": 48.8566, \"lon\": 2.3515},\n",
    "            \"country\": \"FR\",\n",
    "        }\n",
    "    },\n",
    "    \"London\": {\n",
    "        \"weather_list\": [{\n",
    "            \"dt\": 1569434400,\n",
    "            \"main\": {\"temp\": 289.52, \"humidity\": 77},\n",
    "            \"dt_txt\": \"2019-09-25 18:00:00\"\n",
    "        }, {\n",
    "            \"dt\": 1569445200,\n",
    "            \"main\": {\"temp\": 287.78, \"humidity\": 86},\n",
    "            \"dt_txt\": \"2019-09-25 21:00:00\"\n",
    "        }],\n",
    "        \"metadata\": {\n",
    "            \"coord\": {\"lat\": 51.5073, \"lon\": -0.1277},\n",
    "            \"country\": \"GB\",\n",
    "        }\n",
    "    }\n",
    "}\n",
    "\n",
    "\n",
    "# Given the above data, write a function which return a list of dict,\n",
    "# where each dict contains these fields:\n",
    "# - name (str): the city name\n",
    "# - country (str): the city country\n",
    "# - date (str): the date\n",
    "# - temp (float): the temperature in °celsius (not °kelvin)\n",
    "def extract_data(data):\n",
    "   # result=[\n",
    "    #    for city_name, city_weather_data in data.item():\n",
    "     #   for releve in city_weather_data\n",
    "    \n",
    "    return\n",
    "\n",
    "\n",
    "# End of exercices.\n",
    "\n",
    "\n",
    "########################################################################\n",
    "# Here's our \"unit tests\" (à quoi ça sert ? => https://huit.re/gMGd03vx)\n",
    "\n",
    "\n",
    "class Lesson1Tests(unittest.TestCase):\n",
    "    def test_01_string_times(self):\n",
    "        self.assertEqual(string_times('Plop', 2), 'PlopPlop')\n",
    "        self.assertEqual(string_times('Hey', 1), 'Hey')\n",
    "        self.assertEqual(string_times('=', 4), '====')\n",
    "\n",
    "    def test_02_is_leap_year(self):\n",
    "        self.assertTrue(is_leap_year(2000))\n",
    "        self.assertTrue(is_leap_year(2020))\n",
    "        self.assertFalse(is_leap_year(1899))\n",
    "        self.assertFalse(is_leap_year(1900))\n",
    "\n",
    "    def test_03_array_front9(self):\n",
    "        self.assertEqual(array_front9([1, 2, 9, 3, 4]), True)\n",
    "        self.assertEqual(array_front9([1, 2, 3, 4, 9]), False)\n",
    "        self.assertEqual(array_front9([1, 2, 3, 4, 5]), False)\n",
    "\n",
    "    def test_04_list_sqrt(self):\n",
    "        self.assertEqual(list_sqrt([]), [])\n",
    "        self.assertEqual(\n",
    "            list_sqrt([4, 9, 16, 81]),\n",
    "            [2.0, 3.0, 4.0, 9.0]\n",
    "        )\n",
    "\n",
    "    def test_05_occurences(self):\n",
    "        self.assertEqual(\n",
    "            occurences(\"hello world\"),\n",
    "            {'h': 1, 'e': 1, 'l': 3, 'o': 2, ' ': 1, 'w': 1, 'r': 1, 'd': 1}\n",
    "        )\n",
    "\n",
    "    def test_06_length_words(self):\n",
    "        self.assertEqual(length_words(['hello', 'world']), [5, 5])\n",
    "        self.assertEqual(length_words(['hey']), [3])\n",
    "\n",
    "    def test_07_number_to_digits(self):\n",
    "        self.assertEqual(number_to_digits(2019), [2, 0, 1, 9])\n",
    "\n",
    "    def test_08_pig_latin(self):\n",
    "        self.assertEqual(pig_latin(\"Hello\"), \"Ellohay\")\n",
    "        self.assertEqual(\n",
    "            pig_latin(\"The quick brown fox\"),\n",
    "            \"Hetay uickqay rownbay oxfay\"\n",
    "        )\n",
    "\n",
    "    def test_09_extract_data(self):\n",
    "        result = extract_data(weather_data)\n",
    "        self.assertEqual(\n",
    "            result[0],\n",
    "            {\n",
    "                'name': 'Paris',\n",
    "                'country': 'FR',\n",
    "                'date': \"2019-09-25 18:00:00\",\n",
    "                'temp': 16.0\n",
    "            }\n",
    "        )\n",
    "\n",
    "\n",
    "def run_tests():\n",
    "    test_suite = unittest.makeSuite(Lesson1Tests)\n",
    "    runner = unittest.TextTestRunner(verbosity=2)\n",
    "    runner.run(test_suite)\n",
    "\n",
    "\n",
    "if __name__ == '__main__':\n",
    "    run_tests()"
   ]
  },
  {
   "cell_type": "code",
   "execution_count": 37,
   "metadata": {},
   "outputs": [],
   "source": [
    "s = \" hello word\""
   ]
  },
  {
   "cell_type": "code",
   "execution_count": 38,
   "metadata": {},
   "outputs": [
    {
     "data": {
      "text/plain": [
       "1"
      ]
     },
     "execution_count": 38,
     "metadata": {},
     "output_type": "execute_result"
    }
   ],
   "source": [
    "s.index('h')"
   ]
  },
  {
   "cell_type": "code",
   "execution_count": 39,
   "metadata": {},
   "outputs": [
    {
     "data": {
      "text/plain": [
       "<function str.endswith>"
      ]
     },
     "execution_count": 39,
     "metadata": {},
     "output_type": "execute_result"
    }
   ],
   "source": [
    "s.strip().endswith"
   ]
  },
  {
   "cell_type": "code",
   "execution_count": 57,
   "metadata": {},
   "outputs": [
    {
     "data": {
      "text/plain": [
       "'<!doctype html><html itemscope=\"\" itemtype=\"http://schema.org/WebPage\" lang=\"fr\"><head><meta content=\"text/html; charset=UTF-8\" http-equiv=\"Content-Type\"><meta content=\"/images/branding/googleg/1x/googleg_standard_color_128dp.png\" itemprop=\"image\"><title>Google</title><script nonce=\"UvggQ9tgyC3UQp7k9q13xg==\">(function(){window.google={kEI:\\'jMaMXZ3mLIq-a5HMgsgC\\',kEXPI:\\'0,18168,1335578,3657,2006,730,224,510,19,1046,3151,379,206,1017,54,174,75,1758,2,124,10,485,228,320,18,49,490,669,129,92,81,1131099,1197751,273,329243,1294,12383,4855,32692,15247,867,2237,9926,16521,369,3314,5505,2436,3929,2019,1119,2,578,728,2432,1361,4323,3694,1273,774,2251,7861,6196,1719,1808,1478,7,475,16,2044,8909,5072,225,2016,38,920,873,1217,1364,1611,2736,3061,2,631,3240,4192,3874,2883,21,317,1118,902,104,2024,1,369,2777,519,400,992,509,776,8,109,1524,1163,971,44,553,11,14,1279,2212,202,324,4,68,642,542,840,324,193,793,673,8,48,820,2620,818,260,52,1137,2,2063,606,1839,184,595,1182,520,502,1445,450,297,219,98,112,44,1009,93,328,1284,16,84,336,81,2426,1425,214,607,474,197,1,1141,729,19,1039,669,1555,868,136,772,1548,29,495,7,728,592,523,1051,1227,374,735,2403,98,246,426,956,2995,167,446,4,15,207,5,198,9,25,664,43,9,937,174,260,342,874,173,2,62,19,461,165,5,197,2,230,828,497,312,213,130,380,109,456,41,61,1281,83,28,660,20,226,3,552,53,666,118,280,144,137,131,217,71,142,91,73,229,24,42,65,445,619,372,321,570,364,5887743,6000467,187,2799686,4,1572,549,333,444,1,2,80,1,900,583,9,304,1,8,1,2,2132,1,1,1,1,1,414,1,748,141,59,726,3,7,563,1,3787,141,33,4,7,30,17,31,20745933,3220020\\',authuser:0,kscs:\\'c9c918f0_jMaMXZ3mLIq-a5HMgsgC\\',kGL:\\'FR\\',kBL:\\'yHmd\\'};google.sn=\\'webhp\\';google.kHL=\\'fr\\';google.jsfs=\\'Ffpdje\\';})();(function(){google.lc=[];google.li=0;google.getEI=function(a){for(var b;a&&(!a.getAttribute||!(b=a.getAttribute(\"eid\")));)a=a.parentNode;return b||google.kEI};google.getLEI=function(a){for(var b=null;a&&(!a.getAttribute||!(b=a.getAttribute(\"leid\")));)a=a.parentNode;return b};google.https=function(){return\"https:\"==window.location.protocol};google.ml=function(){return null};google.time=function(){return(new Date).getTime()};google.log=function(a,b,e,c,g){if(a=google.logUrl(a,b,e,c,g)){b=new Image;var d=google.lc,f=google.li;d[f]=b;b.onerror=b.onload=b.onabort=function(){delete d[f]};google.vel&&google.vel.lu&&google.vel.lu(a);b.src=a;google.li=f+1}};google.logUrl=function(a,b,e,c,g){var d=\"\",f=google.ls||\"\";e||-1!=b.search(\"&ei=\")||(d=\"&ei=\"+google.getEI(c),-1==b.search(\"&lei=\")&&(c=google.getLEI(c))&&(d+=\"&lei=\"+c));c=\"\";!e&&google.cshid&&-1==b.search(\"&cshid=\")&&\"slh\"!=a&&(c=\"&cshid=\"+google.cshid);a=e||\"/\"+(g||\"gen_204\")+\"?atyp=i&ct=\"+a+\"&cad=\"+b+d+f+\"&zx=\"+google.time()+c;/^http:/i.test(a)&&google.https()&&(google.ml(Error(\"a\"),!1,{src:a,glmm:1}),a=\"\");return a};}).call(this);(function(){google.y={};google.x=function(a,b){if(a)var c=a.id;else{do c=Math.random();while(google.y[c])}google.y[c]=[a,b];return!1};google.lm=[];google.plm=function(a){google.lm.push.apply(google.lm,a)};google.lq=[];google.load=function(a,b,c){google.lq.push([[a],b,c])};google.loadAll=function(a,b){google.lq.push([a,b])};}).call(this);google.f={};var a=window.location,b=a.href.indexOf(\"#\");if(0<=b){var c=a.href.substring(b+1);/(^|&)q=/.test(c)&&-1==c.indexOf(\"#\")&&a.replace(\"/search?\"+c.replace(/(^|&)fp=[^&]*/g,\"\")+\"&cad=h\")};</script><style>#gbar,#guser{font-size:13px;padding-top:1px !important;}#gbar{height:22px}#guser{padding-bottom:7px !important;text-align:right}.gbh,.gbd{border-top:1px solid #c9d7f1;font-size:1px}.gbh{height:0;position:absolute;top:24px;width:100%}@media all{.gb1{height:22px;margin-right:.5em;vertical-align:top}#gbar{float:left}}a.gb1,a.gb4{text-decoration:underline !important}a.gb1,a.gb4{color:#00c !important}.gbi .gb4{color:#dd8e27 !important}.gbf .gb4{color:#900 !important}\\n</style><style>body,td,a,p,.h{font-family:arial,sans-serif}body{margin:0;overflow-y:scroll}#gog{padding:3px 8px 0}td{line-height:.8em}.gac_m td{line-height:17px}form{margin-bottom:20px}.h{color:#36c}.q{color:#00c}.ts td{padding:0}.ts{border-collapse:collapse}em{font-weight:bold;font-style:normal}.lst{height:25px;width:496px}.gsfi,.lst{font:18px arial,sans-serif}.gsfs{font:17px arial,sans-serif}.ds{display:inline-box;display:inline-block;margin:3px 0 4px;margin-left:4px}input{font-family:inherit}a.gb1,a.gb2,a.gb3,a.gb4{color:#11c !important}body{background:#fff;color:black}a{color:#11c;text-decoration:none}a:hover,a:active{text-decoration:underline}.fl a{color:#36c}a:visited{color:#551a8b}a.gb1,a.gb4{text-decoration:underline}a.gb3:hover{text-decoration:none}#ghead a.gb2:hover{color:#fff !important}.sblc{padding-top:5px}.sblc a{display:block;margin:2px 0;margin-left:13px;font-size:11px}.lsbb{background:#eee;border:solid 1px;border-color:#ccc #999 #999 #ccc;height:30px}.lsbb{display:block}.ftl,#fll a{display:inline-block;margin:0 12px}.lsb{background:url(/images/nav_logo229.png) 0 -261px repeat-x;border:none;color:#000;cursor:pointer;height:30px;margin:0;outline:0;font:15px arial,sans-serif;vertical-align:top}.lsb:active{background:#ccc}.lst:focus{outline:none}</style><script nonce=\"UvggQ9tgyC3UQp7k9q13xg==\"></script></head><body bgcolor=\"#fff\"><script nonce=\"UvggQ9tgyC3UQp7k9q13xg==\">(function(){var src=\\'/images/nav_logo229.png\\';var iesg=false;document.body.onload = function(){window.n && window.n();if (document.images){new Image().src=src;}\\nif (!iesg){document.f&&document.f.q.focus();document.gbqf&&document.gbqf.q.focus();}\\n}\\n})();</script><div id=\"mngb\"> <div id=gbar><nobr><b class=gb1>Recherche</b> <a class=gb1 href=\"http://www.google.fr/imghp?hl=fr&tab=wi\">Images</a> <a class=gb1 href=\"http://maps.google.fr/maps?hl=fr&tab=wl\">Maps</a> <a class=gb1 href=\"https://play.google.com/?hl=fr&tab=w8\">Play</a> <a class=gb1 href=\"http://www.youtube.com/?gl=FR&tab=w1\">YouTube</a> <a class=gb1 href=\"http://news.google.fr/nwshp?hl=fr&tab=wn\">Actualités</a> <a class=gb1 href=\"https://mail.google.com/mail/?tab=wm\">Gmail</a> <a class=gb1 href=\"https://drive.google.com/?tab=wo\">Drive</a> <a class=gb1 style=\"text-decoration:none\" href=\"https://www.google.fr/intl/fr/about/products?tab=wh\"><u>Plus</u> &raquo;</a></nobr></div><div id=guser width=100%><nobr><span id=gbn class=gbi></span><span id=gbf class=gbf></span><span id=gbe></span><a href=\"http://www.google.fr/history/optout?hl=fr\" class=gb4>Historique Web</a> | <a  href=\"/preferences?hl=fr\" class=gb4>Paramètres</a> | <a target=_top id=gb_70 href=\"https://accounts.google.com/ServiceLogin?hl=fr&passive=true&continue=http://www.google.fr/%3Fformat%3DJSON\" class=gb4>Connexion</a></nobr></div><div class=gbh style=left:0></div><div class=gbh style=right:0></div> </div><center><br clear=\"all\" id=\"lgpd\"><div id=\"lga\"><img alt=\"Google\" height=\"92\" src=\"/images/branding/googlelogo/1x/googlelogo_white_background_color_272x92dp.png\" style=\"padding:28px 0 14px\" width=\"272\" id=\"hplogo\"><br><br></div><form action=\"/search\" name=\"f\"><table cellpadding=\"0\" cellspacing=\"0\"><tr valign=\"top\"><td width=\"25%\">&nbsp;</td><td align=\"center\" nowrap=\"\"><input name=\"ie\" value=\"ISO-8859-1\" type=\"hidden\"><input value=\"fr\" name=\"hl\" type=\"hidden\"><input name=\"source\" type=\"hidden\" value=\"hp\"><input name=\"biw\" type=\"hidden\"><input name=\"bih\" type=\"hidden\"><div class=\"ds\" style=\"height:32px;margin:4px 0\"><input style=\"color:#000;margin:0;padding:5px 8px 0 6px;vertical-align:top\" autocomplete=\"off\" class=\"lst\" value=\"\" title=\"Recherche Google\" maxlength=\"2048\" name=\"q\" size=\"57\"></div><br style=\"line-height:0\"><span class=\"ds\"><span class=\"lsbb\"><input class=\"lsb\" value=\"Recherche Google\" name=\"btnG\" type=\"submit\"></span></span><span class=\"ds\"><span class=\"lsbb\"><input class=\"lsb\" id=\"tsuid1\" value=\"J\\'ai de la chance\" name=\"btnI\" type=\"submit\"><script nonce=\"UvggQ9tgyC3UQp7k9q13xg==\">(function(){var id=\\'tsuid1\\';document.getElementById(id).onclick = function(){if (this.form.q.value){this.checked = 1;if (this.form.iflsig)this.form.iflsig.disabled = false;}\\nelse top.location=\\'/doodles/\\';};})();</script></span></span></td><td class=\"fl sblc\" align=\"left\" nowrap=\"\" width=\"25%\"><a href=\"/advanced_search?hl=fr&amp;authuser=0\">Recherche avancée</a><a href=\"/language_tools?hl=fr&amp;authuser=0\">Outils linguistiques</a></td></tr></table><input id=\"gbv\" name=\"gbv\" type=\"hidden\" value=\"1\"><script nonce=\"UvggQ9tgyC3UQp7k9q13xg==\">(function(){var a,b=\"1\";if(document&&document.getElementById)if(\"undefined\"!=typeof XMLHttpRequest)b=\"2\";else if(\"undefined\"!=typeof ActiveXObject){var c,d,e=[\"MSXML2.XMLHTTP.6.0\",\"MSXML2.XMLHTTP.3.0\",\"MSXML2.XMLHTTP\",\"Microsoft.XMLHTTP\"];for(c=0;d=e[c++];)try{new ActiveXObject(d),b=\"2\"}catch(h){}}a=b;if(\"2\"==a&&-1==location.search.indexOf(\"&gbv=2\")){var f=google.gbvu,g=document.getElementById(\"gbv\");g&&(g.value=a);f&&window.setTimeout(function(){location.href=f},0)};}).call(this);</script></form><div id=\"gac_scont\"></div><div style=\"font-size:83%;min-height:3.5em\"><br><div id=\"prm\"><style>.szppmdbYutt__middle-slot-promo{font-size:small;margin-bottom:32px}.szppmdbYutt__middle-slot-promo a.ZIeIlb{display:inline-block;text-decoration:none}.szppmdbYutt__middle-slot-promo img{border:none;margin-right:5px;vertical-align:middle}</style><div class=\"szppmdbYutt__middle-slot-promo\" data-ved=\"0ahUKEwid3IOF1e7kAhUK3xoKHRGmACkQnIcBCAQ\"><a class=\"NKcBbd\" href=\"https://www.google.com/url?q=https://learndigital.withgoogle.com/ateliersnumeriques%3Futm_source%3DHPP%26utm_medium%3Dreferral%26utm_campaign%3DQ3_19_hpp%26utm_content%3DFrance_Q3_hpp&amp;source=hpp&amp;id=19014019&amp;ct=3&amp;usg=AFQjCNGuyS-gSEHwuPPdhcAXfgPQA1U6rQ&amp;sa=X&amp;ved=0ahUKEwid3IOF1e7kAhUK3xoKHRGmACkQ8IcBCAU\" rel=\"nofollow\">Profitez de la rentrée pour vous former avec Google</a></div></div></div><span id=\"footer\"><div style=\"font-size:10pt\"><div style=\"margin:19px auto;text-align:center\" id=\"fll\"><a href=\"/intl/fr/ads/\">Solutions publicitaires</a><a href=\"/services/\">Solutions d\\'entreprise</a><a href=\"/intl/fr/about.html\">À propos de Google</a><a href=\"http://www.google.fr/setprefdomain?prefdom=US&amp;sig=K__vsaTrx9AmE588Elfu4ggKWmwgg%3D\" id=\"fehl\">Google.com</a></div></div><p style=\"color:#767676;font-size:8pt\">&copy; 2019 - <a href=\"/intl/fr/policies/privacy/\">Confidentialité</a> - <a href=\"/intl/fr/policies/terms/\">Conditions</a></p></span></center><script nonce=\"UvggQ9tgyC3UQp7k9q13xg==\">(function(){window.google.cdo={height:0,width:0};(function(){var a=window.innerWidth,b=window.innerHeight;if(!a||!b){var c=window.document,d=\"CSS1Compat\"==c.compatMode?c.documentElement:c.body;a=d.clientWidth;b=d.clientHeight}a&&b&&(a!=google.cdo.width||b!=google.cdo.height)&&google.log(\"\",\"\",\"/client_204?&atyp=i&biw=\"+a+\"&bih=\"+b+\"&ei=\"+google.kEI);}).call(this);})();(function(){var u=\\'/xjs/_/js/k\\\\x3dxjs.hp.en.meu_UbG4Irs.O/m\\\\x3dsb_he,d/am\\\\x3dHhZsAg/d\\\\x3d1/rs\\\\x3dACT90oFx5MkUgHP-hKfNsU5ydfeNMhGbfA\\';setTimeout(function(){var a=document.createElement(\"script\");a.src=u;google.timers&&google.timers.load&&google.tick&&google.tick(\"load\",\"xjsls\");document.body.appendChild(a)},0);})();(function(){window.google.xjsu=\\'/xjs/_/js/k\\\\x3dxjs.hp.en.meu_UbG4Irs.O/m\\\\x3dsb_he,d/am\\\\x3dHhZsAg/d\\\\x3d1/rs\\\\x3dACT90oFx5MkUgHP-hKfNsU5ydfeNMhGbfA\\';})();function _DumpException(e){throw e;}\\nfunction _F_installCss(c){}\\n(function(){google.spjs=false;google.snet=true;google.em=[];google.emw=false;})();(function(){var pmc=\\'{\\\\x22JnTczA\\\\x22:{},\\\\x22Qnk92g\\\\x22:{},\\\\x22RWGcrA\\\\x22:{},\\\\x22U5B21g\\\\x22:{},\\\\x22YFCs/g\\\\x22:{},\\\\x22YQeDTA\\\\x22:{},\\\\x22ZI/YVQ\\\\x22:{},\\\\x22d\\\\x22:{},\\\\x22mVopag\\\\x22:{},\\\\x22sb_he\\\\x22:{\\\\x22agen\\\\x22:false,\\\\x22cgen\\\\x22:false,\\\\x22client\\\\x22:\\\\x22heirloom-hp\\\\x22,\\\\x22dh\\\\x22:true,\\\\x22dhqt\\\\x22:true,\\\\x22ds\\\\x22:\\\\x22\\\\x22,\\\\x22ffql\\\\x22:\\\\x22fr\\\\x22,\\\\x22fl\\\\x22:true,\\\\x22host\\\\x22:\\\\x22google.fr\\\\x22,\\\\x22isbh\\\\x22:28,\\\\x22jsonp\\\\x22:true,\\\\x22lm\\\\x22:true,\\\\x22msgs\\\\x22:{\\\\x22cibl\\\\x22:\\\\x22Effacer la recherche\\\\x22,\\\\x22dym\\\\x22:\\\\x22Essayez avec cette orthographe :\\\\x22,\\\\x22lcky\\\\x22:\\\\x22J\\\\\\\\u0026#39;ai de la chance\\\\x22,\\\\x22lml\\\\x22:\\\\x22En savoir plus\\\\x22,\\\\x22oskt\\\\x22:\\\\x22Outils de saisie\\\\x22,\\\\x22psrc\\\\x22:\\\\x22Cette suggestion a bien été supprimée de votre \\\\\\\\u003Ca href\\\\x3d\\\\\\\\\\\\x22/history\\\\\\\\\\\\x22\\\\\\\\u003Ehistorique Web\\\\\\\\u003C/a\\\\\\\\u003E.\\\\x22,\\\\x22psrl\\\\x22:\\\\x22Supprimer\\\\x22,\\\\x22sbit\\\\x22:\\\\x22Recherche par image\\\\x22,\\\\x22srch\\\\x22:\\\\x22Recherche Google\\\\x22},\\\\x22ovr\\\\x22:{},\\\\x22pq\\\\x22:\\\\x22\\\\x22,\\\\x22refpd\\\\x22:true,\\\\x22rfs\\\\x22:[],\\\\x22sbpl\\\\x22:24,\\\\x22sbpr\\\\x22:24,\\\\x22scd\\\\x22:10,\\\\x22sce\\\\x22:5,\\\\x22stok\\\\x22:\\\\x22CeLtNeZwrE0t2KopjDXe-rmHixo\\\\x22,\\\\x22uhde\\\\x22:false}}\\';google.pmc=JSON.parse(pmc);})();</script>        </body></html>'"
      ]
     },
     "execution_count": 57,
     "metadata": {},
     "output_type": "execute_result"
    }
   ],
   "source": [
    "import requests\n",
    "response = requests.get(\"http://www.google.fr?format=JSON\")\n",
    "response.text"
   ]
  },
  {
   "cell_type": "code",
   "execution_count": null,
   "metadata": {},
   "outputs": [],
   "source": [
    "pip beautifulsoup"
   ]
  },
  {
   "cell_type": "code",
   "execution_count": 58,
   "metadata": {},
   "outputs": [
    {
     "data": {
      "text/plain": [
       "'yangyangyangyang'"
      ]
     },
     "execution_count": 58,
     "metadata": {},
     "output_type": "execute_result"
    }
   ],
   "source": [
    "\"yang\"*4"
   ]
  },
  {
   "cell_type": "code",
   "execution_count": 105,
   "metadata": {},
   "outputs": [
    {
     "name": "stdout",
     "output_type": "stream",
     "text": [
      "[1]\n",
      "[1, 1]\n",
      "[1, 1, 1]\n",
      "[1, 1, 1, 1]\n",
      "[1, 1, 1, 1, 1]\n",
      "[1, 1, 1, 1, 1, 1]\n",
      "[1, 1, 1, 1, 1, 1, 1]\n",
      "[1, 1, 1, 1, 1, 1, 1, 1]\n",
      "[1, 1, 1, 1, 1, 1, 1, 1, 1]\n",
      "[1, 1, 1, 1, 1, 1, 1, 1, 1, 1]\n",
      "[1, 1, 1, 1, 1, 1, 1, 1, 1, 1, 1]\n",
      "[1, 1, 1, 1, 1, 1, 1, 1, 1, 1, 1, 1]\n",
      "[1, 1, 1, 1, 1, 1, 1, 1, 1, 1, 1, 1, 1]\n",
      "[1, 1, 1, 1, 1, 1, 1, 1, 1, 1, 1, 1, 1, 1]\n",
      "[1, 1, 1, 1, 1, 1, 1, 1, 1, 1, 1, 1, 1, 1, 1]\n",
      "[1, 1, 1, 1, 1, 1, 1, 1, 1, 1, 1, 1, 1, 1, 1, 1]\n",
      "[1, 1, 1, 1, 1, 1, 1, 1, 1, 1, 1, 1, 1, 1, 1, 1, 1]\n",
      "[1, 1, 1, 1, 1, 1, 1, 1, 1, 1, 1, 1, 1, 1, 1, 1, 1, 1]\n",
      "[1, 1, 1, 1, 1, 1, 1, 1, 1, 1, 1, 1, 1, 1, 1, 1, 1, 1, 1]\n",
      "[1, 1, 1, 1, 1, 1, 1, 1, 1, 1, 1, 1, 1, 1, 1, 1, 1, 1, 1, 1]\n",
      "[1, 1, 1, 1, 1, 1, 1, 1, 1, 1, 1, 1, 1, 1, 1, 1, 1, 1, 1, 1, 1]\n",
      "[1, 1, 1, 1, 1, 1, 1, 1, 1, 1, 1, 1, 1, 1, 1, 1, 1, 1, 1, 1, 1, 1]\n",
      "[1, 1, 1, 1, 1, 1, 1, 1, 1, 1, 1, 1, 1, 1, 1, 1, 1, 1, 1, 1, 1, 1, 1]\n",
      "[1, 1, 1, 1, 1, 1, 1, 1, 1, 1, 1, 1, 1, 1, 1, 1, 1, 1, 1, 1, 1, 1, 1, 1]\n",
      "[1, 1, 1, 1, 1, 1, 1, 1, 1, 1, 1, 1, 1, 1, 1, 1, 1, 1, 1, 1, 1, 1, 1, 1, 1]\n"
     ]
    }
   ],
   "source": [
    "\n",
    "words=\"sdfsdfsdf sdfsdfsdf sdfsf\"\n",
    "listLen=[]\n",
    "for word in words:\n",
    "    listLen.append(len(word))\n",
    "    print(listLen)\n"
   ]
  },
  {
   "cell_type": "code",
   "execution_count": 110,
   "metadata": {},
   "outputs": [
    {
     "name": "stdout",
     "output_type": "stream",
     "text": [
      "Requirement already satisfied: requests in /anaconda3/lib/python3.7/site-packages (2.22.0)\n",
      "Requirement already satisfied: idna<2.9,>=2.5 in /anaconda3/lib/python3.7/site-packages (from requests) (2.8)\n",
      "Requirement already satisfied: certifi>=2017.4.17 in /anaconda3/lib/python3.7/site-packages (from requests) (2019.6.16)\n",
      "Requirement already satisfied: chardet<3.1.0,>=3.0.2 in /anaconda3/lib/python3.7/site-packages (from requests) (3.0.4)\n",
      "Requirement already satisfied: urllib3!=1.25.0,!=1.25.1,<1.26,>=1.21.1 in /anaconda3/lib/python3.7/site-packages (from requests) (1.24.2)\n",
      "Note: you may need to restart the kernel to use updated packages.\n"
     ]
    }
   ],
   "source": []
  },
  {
   "cell_type": "code",
   "execution_count": null,
   "metadata": {},
   "outputs": [],
   "source": []
  }
 ],
 "metadata": {
  "kernelspec": {
   "display_name": "Python 3",
   "language": "python",
   "name": "python3"
  },
  "language_info": {
   "codemirror_mode": {
    "name": "ipython",
    "version": 3
   },
   "file_extension": ".py",
   "mimetype": "text/x-python",
   "name": "python",
   "nbconvert_exporter": "python",
   "pygments_lexer": "ipython3",
   "version": "3.7.3"
  }
 },
 "nbformat": 4,
 "nbformat_minor": 2
}
