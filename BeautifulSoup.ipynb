{
 "cells": [
  {
   "cell_type": "code",
   "execution_count": 41,
   "metadata": {
    "ExecuteTime": {
     "end_time": "2019-10-18T14:19:14.577267Z",
     "start_time": "2019-10-18T14:18:59.896823Z"
    }
   },
   "outputs": [],
   "source": [
    "import itertools\n",
    "from bs4 import BeautifulSoup\n",
    "import requests\n",
    "import pandas as pd\n",
    "\n",
    "URL = \"https://fr.wikipedia.org/wiki/Liste_des_communes_de_France_les_plus_peuplées\"\n",
    "\n",
    "\n",
    "def get_soup_from_url(url):\n",
    "    return BeautifulSoup(requests.get(url).content, 'html.parser')"
   ]
  },
  {
   "cell_type": "markdown",
   "metadata": {
    "ExecuteTime": {
     "end_time": "2019-10-18T14:22:37.592513Z",
     "start_time": "2019-10-18T14:22:37.588328Z"
    }
   },
   "source": [
    "# def get_biggest_cities(limit=100):\n",
    "    cities = []\n",
    "    soup = get_soup_from_url(URL)\n",
    "    \n",
    "    # Using css nth-child selector:\n",
    "    # cities_tags = soup.find('table').select('tr td:nth-child(2)')\n",
    "    # cities = [city.find('a').text.strip() for city in cities_tags]\n",
    "    \n",
    "    rows = soup.find('table').find_all('tr')[1:]  # exclude 1st line (column names)\n",
    "    for r in rows:\n",
    "        cells = r.find_all('td')\n",
    "        city = cells[1].find('a').text.strip()\n",
    "        cities.append(city)\n",
    "    return cities[:limit]"
   ]
  },
  {
   "cell_type": "code",
   "execution_count": 48,
   "metadata": {
    "ExecuteTime": {
     "end_time": "2019-10-18T14:22:42.215008Z",
     "start_time": "2019-10-18T14:22:42.212114Z"
    }
   },
   "outputs": [],
   "source": [
    "def get_distance_between(origin, destination):\n",
    "    url = f\"https://fr.distance24.org/route.json?stops={origin}|{destination}\"\n",
    "    data = requests.get(url).json()\n",
    "    return data"
   ]
  },
  {
   "cell_type": "code",
   "execution_count": 38,
   "metadata": {
    "ExecuteTime": {
     "end_time": "2019-10-18T14:16:03.943701Z",
     "start_time": "2019-10-18T14:16:03.572691Z"
    }
   },
   "outputs": [
    {
     "data": {
      "text/plain": [
       "{'distances': [8229],\n",
       " 'distance': 8229,\n",
       " 'stops': [{'travelGuides_timestamp': '2013-02-24T21:28:21+00:00',\n",
       "   'locatedBy_version': 7,\n",
       "   'locatedBy_timestamp': '2012-10-23T20:53:45+00:00',\n",
       "   'city': 'Pékin',\n",
       "   'travelGuides': [{'thumbnail': 'http://ecx.images-amazon.com/images/I/51CeHTjaDTL._SL160_.jpg',\n",
       "     'title': 'Pékin, Guide de Voyage',\n",
       "     'url': 'http://www.amazon.fr/P%C3%A9kin-Guide-Voyage-Berlitz/dp/9812468579%3FSubscriptionId%3D1ERC8D3Q83S91BW8KGR2%26tag%3Dreezom-21%26linkCode%3Dxm2%26camp%3D2025%26creative%3D165953%26creativeASIN%3D9812468579'},\n",
       "    {'thumbnail': 'http://ecx.images-amazon.com/images/I/51RSZ2R5V0L._SL160_.jpg',\n",
       "     'title': 'Pékin',\n",
       "     'url': 'http://www.amazon.fr/P%C3%A9kin-Chantal-Gressier/dp/2020057220%3FSubscriptionId%3D1ERC8D3Q83S91BW8KGR2%26tag%3Dreezom-21%26linkCode%3Dxm2%26camp%3D2025%26creative%3D165953%26creativeASIN%3D2020057220'},\n",
       "    {'thumbnail': 'http://ecx.images-amazon.com/images/I/51ZXM345CBL._SL160_.jpg',\n",
       "     'title': 'Pékin en poche : Les meilleures adresses de la capitale chinoise',\n",
       "     'url': 'http://www.amazon.fr/P%C3%A9kin-poche-meilleures-adresses-capitale/dp/2842792459%3FSubscriptionId%3D1ERC8D3Q83S91BW8KGR2%26tag%3Dreezom-21%26linkCode%3Dxm2%26camp%3D2025%26creative%3D165953%26creativeASIN%3D2842792459'}],\n",
       "   'postalCode': '1000',\n",
       "   'nearByCities': [{'city': 'Baoding', 'rank': 60, 'category': 'medium'},\n",
       "    {'city': 'Changping', 'rank': 60, 'category': 'near'},\n",
       "    {'city': 'Dakota', 'rank': 30, 'category': 'near'},\n",
       "    {'city': 'Datong', 'rank': 30, 'category': 'medium'},\n",
       "    {'city': 'Fangshan Township', 'rank': 30, 'category': 'near'},\n",
       "    {'city': 'Handan', 'rank': 70, 'category': 'medium'},\n",
       "    {'city': 'Huangcun', 'rank': 30, 'category': 'near'},\n",
       "    {'city': 'Hunt', 'rank': 30, 'category': 'near'},\n",
       "    {'city': 'Jinan', 'rank': 30, 'category': 'medium'},\n",
       "    {'city': 'Langfang', 'rank': 70, 'category': 'near'},\n",
       "    {'city': 'Nanchong', 'rank': 70, 'category': 'far'},\n",
       "    {'city': 'Oulan-Bator', 'rank': 70, 'category': 'far'},\n",
       "    {'city': 'Pyongyang', 'rank': 70, 'category': 'far'},\n",
       "    {'city': 'Séoul', 'rank': 70, 'category': 'far'},\n",
       "    {'city': 'Shijiazhuang', 'rank': 70, 'category': 'medium'},\n",
       "    {'city': 'Shunyi', 'rank': 60, 'category': 'near'},\n",
       "    {'city': \"Tai'an\", 'rank': 70, 'category': 'medium'},\n",
       "    {'city': 'Taiyuan', 'rank': 70, 'category': 'medium'},\n",
       "    {'city': 'Tangshan', 'rank': 70, 'category': 'medium'},\n",
       "    {'city': 'Tianjin', 'rank': 40, 'category': 'medium'},\n",
       "    {'city': 'Tongzhou', 'rank': 60, 'category': 'near'},\n",
       "    {'city': 'Xianshuigu', 'rank': 30, 'category': 'near'},\n",
       "    {'city': 'Yangcun', 'rank': 30, 'category': 'near'},\n",
       "    {'city': 'Zhumadian', 'rank': 70, 'category': 'far'}],\n",
       "   'latitude': 39.90403,\n",
       "   'type': 'City',\n",
       "   'countryCode': 'CN',\n",
       "   'translations': {'no': 'Beijing',\n",
       "    'de': 'Peking',\n",
       "    'fi': 'Peking',\n",
       "    'sv': 'Peking',\n",
       "    'ru': 'Beijing',\n",
       "    'ko': '베이징',\n",
       "    'pt': 'Pequim',\n",
       "    'el': 'Beijing',\n",
       "    'en': 'Beijing',\n",
       "    'it': 'Pechino',\n",
       "    'fr': 'Pékin',\n",
       "    'zh': '北京',\n",
       "    'es': 'Pekín',\n",
       "    'ar': 'بكين',\n",
       "    'ja': 'ぺキン',\n",
       "    'pl': 'Pekin',\n",
       "    'da': 'Beijing',\n",
       "    'he': 'Beijing',\n",
       "    'tr': 'Beijing',\n",
       "    'nl': 'Peking'},\n",
       "   'wikipedia_timestamp': '2012-09-11T00:51:23+00:00',\n",
       "   'wikipedia_version': 3,\n",
       "   'hotels_timestamp': '2017-06-26T09:55:11+00:00',\n",
       "   'timeZone_version': 1,\n",
       "   'wikipedia': {'image': 'http://upload.wikimedia.org/wikipedia/commons/d/dd/Beijing_montage.png',\n",
       "    'thumbnail': 'http://upload.wikimedia.org/wikipedia/commons/thumb/d/dd/Beijing_montage.png/200px-Beijing_montage.png',\n",
       "    'abstract': \"Pékin ou Beijing est la capitale de la République populaire de Chine. Située dans le nord du pays, la municipalité de Pékin (北京市, abrégé en 北京), d'une superficie de 16\\xa0800\\xa0km, borde la province du Hebei ainsi que la municipalité de Tianjin. Pékin est considérée comme le centre politique et culturel de la Chine, tandis que Hong Kong et Shanghai dominent au niveau économique. D'abord ville périphérique de l'empire chinois sous les Han et les Tang, elle prend de l'importance lorsque les Jurchen, qui fondent la dynastie Jin, la choisissent comme leur capitale principale en 1153. Le prince mongol Kublai Khan en fait de même sous le nom de Dadu («\\xa0grande capitale\\xa0»), enfin les Ming y transfèrent leur administration en 1421, finalisant le choix de Pékin comme capitale de la Chine. Située à proximité de la Grande Muraille, Pékin abrite des monuments célèbres comme la Cité interdite et le Temple du ciel, qui sont inscrits au patrimoine mondial. De nombreuses réalisations architecturales et structurelles ont modifié la ville à l'occasion des Jeux olympiques dont elle a été l'hôte en 2008. Avec 19,6 millions d'habitants (2010), Pékin est la deuxième ville la plus peuplée de Chine après Shanghai. La zone urbaine compte quant à elle 18 millions d'habitants. Le parler pékinois forme la base du mandarin standard. D'un point de vue économique, Pékin est la troisième ville de Chine par le PIB total derrière Shanghai et Hong Kong. Elle connaît une croissance économique très rapide, nettement plus de 10\\xa0% par an dans les années 2000. Un nouveau Central business district (CBD) est en construction.\",\n",
       "    'home': 'http://www.ebeijing.gov.cn/',\n",
       "    'population': 19612368.0},\n",
       "   'longitude': 116.407526,\n",
       "   'airports_version': 6,\n",
       "   'timeZone_timestamp': '2012-06-07T19:46:54+00:00',\n",
       "   'alt': [],\n",
       "   'woeid': 2151330,\n",
       "   'timeZone': {'dstSavingsMins': 0,\n",
       "    'name': 'Heure normale de Chine',\n",
       "    'id': 'Asia/Shanghai',\n",
       "    'abbr': 'CST',\n",
       "    'offsetMin': 480},\n",
       "   'translations_version': 0,\n",
       "   'locatedBy': 'maps.google.com',\n",
       "   'airports': [],\n",
       "   'airports_timestamp': '2019-04-22T12:43:45+00:00',\n",
       "   'localTime': {'dstActive': False,\n",
       "    'timeZoneName': 'Heure normale de Chine',\n",
       "    'formatted': '14:28',\n",
       "    'timeZoneAbbr': 'CST'},\n",
       "   'nearByCities_version': 2,\n",
       "   'promotions': {'lastminutede_version': 3,\n",
       "    'lastminutede_timestamp': '2010-08-31T06:12:01+00:00',\n",
       "    'lastminutede': {}},\n",
       "   'travelGuides_version': 1,\n",
       "   'nearByCities_timestamp': '2010-08-10T20:24:03+00:00',\n",
       "   'hotels': [{'provider': 'hotel.info',\n",
       "     'name': 'Zhengyi Road Huafang Hotel - Beijing',\n",
       "     'nativeId': '387349',\n",
       "     'picture': 'https://foto.hrsstatic.com/fotos/0/2/545/350/80/000000/http%3A%2F%2Ffoto-origin.hrsstatic.com%2Ffoto%2F6%2F0%2F1%2F6%2F601608%2F601608_h_3356070.jpg/U2ue98PezgfqLqiNl6752A%3D%3D/175%2C116/6/Zhengyi_Road_Huafang_Hotel_-_Beijing-Peking-Hotelhalle-2-601608.jpg',\n",
       "     'url': 'http://www.hotel.info/Booking.aspx?h_hmid=387349&han=4374478'}],\n",
       "   'lastUpdate': '2019-10-18T14:16:03+00:00',\n",
       "   'hotels_version': 1,\n",
       "   'compressed': 1,\n",
       "   'region': 'Pékin',\n",
       "   'translations_timestamp': '2014-05-21T17:52:45+00:00'},\n",
       "  {'travelGuides_timestamp': '2013-02-08T20:48:00+00:00',\n",
       "   'locatedBy_version': 7,\n",
       "   'locatedBy_timestamp': '2012-10-18T23:26:37+00:00',\n",
       "   'city': 'Paris',\n",
       "   'travelGuides': [{'thumbnail': 'http://ecx.images-amazon.com/images/I/51032LAPx8L._SL160_.jpg',\n",
       "     'title': 'Paris Enfants',\n",
       "     'url': 'http://www.amazon.fr/Paris-Enfants-Collectif-Michelin/dp/206716581X%3FSubscriptionId%3D1ERC8D3Q83S91BW8KGR2%26tag%3Dreezom-21%26linkCode%3Dxm2%26camp%3D2025%26creative%3D165953%26creativeASIN%3D206716581X'},\n",
       "    {'thumbnail': 'http://ecx.images-amazon.com/images/I/51hChmv9sSL._SL160_.jpg',\n",
       "     'title': 'Guide touristique de Paris',\n",
       "     'url': 'http://www.amazon.fr/Guide-touristique-Paris-Christophe-Renault/dp/2877474062%3FSubscriptionId%3D1ERC8D3Q83S91BW8KGR2%26tag%3Dreezom-21%26linkCode%3Dxm2%26camp%3D2025%26creative%3D165953%26creativeASIN%3D2877474062'},\n",
       "    {'thumbnail': 'http://ecx.images-amazon.com/images/I/515xgEn27vL._SL160_.jpg',\n",
       "     'title': '100% Paris, Guide de voyage',\n",
       "     'url': 'http://www.amazon.fr/Paris-Guide-voyage-Evelyn-Bekke/dp/2400240019%3FSubscriptionId%3D1ERC8D3Q83S91BW8KGR2%26tag%3Dreezom-21%26linkCode%3Dxm2%26camp%3D2025%26creative%3D165953%26creativeASIN%3D2400240019'}],\n",
       "   'nearByCities': [{'distance': 1349,\n",
       "     'city': 'Alger',\n",
       "     'rank': 70,\n",
       "     'category': 'far'},\n",
       "    {'distance': 431, 'city': 'Amsterdam', 'rank': 60, 'category': 'medium'},\n",
       "    {'distance': 12, 'city': 'Antony', 'rank': 75, 'category': 'near'},\n",
       "    {'distance': 301, 'city': 'Anvers', 'rank': 55, 'category': 'medium'},\n",
       "    {'distance': 13, 'city': 'Argenteuil', 'rank': 85, 'category': 'near'},\n",
       "    {'distance': 879, 'city': 'Berlin', 'rank': 70, 'category': 'far'},\n",
       "    {'distance': 264, 'city': 'Bruxelles', 'rank': 55, 'category': 'medium'},\n",
       "    {'distance': 94, 'city': 'Cayenne', 'rank': 50, 'category': 'near'},\n",
       "    {'distance': 28, 'city': 'Cergy', 'rank': 75, 'category': 'near'},\n",
       "    {'distance': 1028, 'city': 'Copenhague', 'rank': 60, 'category': 'far'},\n",
       "    {'distance': 480, 'city': 'Coventry', 'rank': 30, 'category': 'medium'},\n",
       "    {'distance': 12, 'city': 'Créteil', 'rank': 75, 'category': 'near'},\n",
       "    {'distance': 10, 'city': 'Drancy', 'rank': 75, 'category': 'near'},\n",
       "    {'distance': 487, 'city': 'Leicester', 'rank': 30, 'category': 'medium'},\n",
       "    {'distance': 344, 'city': 'Londres', 'rank': 70, 'category': 'far'},\n",
       "    {'distance': 287, 'city': 'Luxembourg', 'rank': 95, 'category': 'medium'},\n",
       "    {'distance': 394, 'city': 'Lyon', 'rank': 85, 'category': 'medium'},\n",
       "    {'distance': 1054, 'city': 'Madrid', 'rank': 70, 'category': 'far'},\n",
       "    {'distance': 11, 'city': 'Nanterre', 'rank': 75, 'category': 'near'},\n",
       "    {'distance': 15, 'city': 'Noisy-le-Grand', 'rank': 75, 'category': 'near'},\n",
       "    {'distance': 111, 'city': 'Orléans', 'rank': 85, 'category': 'near'},\n",
       "    {'distance': 1107, 'city': 'Rome', 'rank': 70, 'category': 'far'},\n",
       "    {'distance': 373, 'city': 'Rotterdam', 'rank': 60, 'category': 'medium'},\n",
       "    {'distance': 130, 'city': 'Saint-Quentin', 'rank': 75, 'category': 'near'},\n",
       "    {'distance': 17, 'city': 'Versailles', 'rank': 75, 'category': 'near'}],\n",
       "   'latitude': 48.856614,\n",
       "   'type': 'City',\n",
       "   'countryCode': 'FR',\n",
       "   'translations': {'no': 'Paris',\n",
       "    'de': 'Paris',\n",
       "    'fi': 'Pariisi',\n",
       "    'sv': 'Paris',\n",
       "    'ru': 'Paris',\n",
       "    'ko': '파리다바드',\n",
       "    'pt': 'Paris',\n",
       "    'el': 'Paris',\n",
       "    'en': 'Paris',\n",
       "    'it': 'Parigi',\n",
       "    'fr': 'Paris',\n",
       "    'zh': '巴黎',\n",
       "    'es': 'París',\n",
       "    'ar': 'باريس',\n",
       "    'ja': 'パリ',\n",
       "    'pl': 'Paryż',\n",
       "    'da': 'Paris',\n",
       "    'he': 'Paris',\n",
       "    'tr': 'Paris',\n",
       "    'nl': 'Parijs'},\n",
       "   'wikipedia_timestamp': '2013-05-08T21:06:52+00:00',\n",
       "   'wikipedia_version': 3,\n",
       "   'hotels_timestamp': '2014-04-06T10:24:00+00:00',\n",
       "   'timeZone_version': 1,\n",
       "   'wikipedia': {'image': 'http://upload.wikimedia.org/wikipedia/commons/6/6e/Paris_-_Eiffelturm_und_Marsfeld2.jpg',\n",
       "    'thumbnail': 'http://upload.wikimedia.org/wikipedia/commons/thumb/6/6e/Paris_-_Eiffelturm_und_Marsfeld2.jpg/200px-Paris_-_Eiffelturm_und_Marsfeld2.jpg',\n",
       "    'abstract': \"Paris, ville la plus peuplée et capitale de la France, chef-lieu de la région Île-de-France et unique commune-département du pays, se situe au centre du Bassin parisien, sur une boucle de la Seine, entre les confluents avec la Marne en amont et avec l’Oise en aval. Ses habitants s’appellent les Parisiens. La ville est divisée en 20 arrondissements. D’après le recensement de l’Insee, la commune de Paris comptait au 1 janvier 2009 plus de 2,2\\xa0millions d'habitants. L'agglomération de Paris s’est largement développée au cours du XX\\xa0siècle, rassemblant 10,4\\xa0millions d'habitants au 1 janvier 2008, et son aire urbaine (l’agglomération et la couronne périurbaine) comptait environ 12,1\\xa0millions d'habitants au 1 janvier 2008. Elle est l'une des agglomérations européennes les plus peuplées. La position de Paris, à un carrefour entre les itinéraires commerciaux terrestres et fluviaux et au cœur d’une riche région agricole, en a fait une des principales villes de France au cours du X\\xa0siècle, avec des royaux, de riches s et une cathédrale\\xa0; au cours du XII\\xa0siècle, Paris devient un des premiers foyers en Europe pour l’enseignement et les arts. Le pouvoir royal se fixant dans cette ville, son importance économique et politique ne cesse de croître. Ainsi, au début du XIV\\xa0siècle, Paris est la ville la plus importante de tout le monde chrétien. Au XVII\\xa0siècle, elle est la capitale de la première puissance politique européenne, au XVIII\\xa0siècle le centre culturel de l’Europe et au XIX\\xa0siècle la capitale des arts et des plaisirs. Paris a donc joué un rôle politique et économique majeur dans l’histoire de l'Europe au cours du II millénaire. Symbole de la culture française, abritant de nombreux monuments, la ville attire dans les années 2000 près de trente millions de visiteurs par an. Paris occupe également une place prépondérante dans le milieu de la mode et du luxe\\xa0; c'est aussi la capitale la plus visitée au monde. Le département de Paris avait, en 2005, un PIB par habitant de plus de 75\\xa0000\\xa0euros. La ville est, avec sa banlieue, la capitale économique et commerciale de la France, ainsi que sa première place financière et boursière. La région parisienne, avec un produit intérieur brut (PIB) de 552,7\\xa0milliards d'euros en 2008, est un acteur économique européen majeur. Elle est la 1 région européenne en termes de PIB régional et 6 en termes de PIB par habitant PPA. La densité de son réseau ferroviaire, autoroutier et sa structure aéroportuaire, plaque tournante du réseau aérien français et européen, en font un point de convergence pour les transports internationaux. Cette situation résulte d’une longue évolution, en particulier des conceptions centralisatrices des monarchies et des républiques, qui donnent un rôle considérable à la capitale dans le pays et tendent à y concentrer les institutions. Depuis les années 1960, les politiques gouvernementales ont toutefois oscillé entre déconcentration et décentralisation.\",\n",
       "    'home': 'http://www.paris.fr/',\n",
       "    'population': 2211297},\n",
       "   'longitude': 2.3522219,\n",
       "   'airports_version': 6,\n",
       "   'timeZone_timestamp': '2018-02-23T18:33:34+00:00',\n",
       "   'timeZone': {'dstSavingsMins': 60,\n",
       "    'name': \"Heure d'Europe centrale\",\n",
       "    'id': 'Europe/Paris',\n",
       "    'abbr': 'CET',\n",
       "    'offsetMin': 60},\n",
       "   'translations_version': 0,\n",
       "   'locatedBy': 'maps.google.com',\n",
       "   'airports': [],\n",
       "   'airports_timestamp': '2019-03-31T21:02:46+00:00',\n",
       "   'localTime': {'dstActive': True,\n",
       "    'timeZoneName': \"Heure d'été d'Europe centrale\",\n",
       "    'formatted': '21:29',\n",
       "    'timeZoneAbbr': 'CEST'},\n",
       "   'nearByCities_version': 2,\n",
       "   'promotions': {'lastminutede_version': 3,\n",
       "    'lastminutede_timestamp': '2010-08-19T10:11:41+00:00',\n",
       "    'lastminutede': {}},\n",
       "   'travelGuides_version': 1,\n",
       "   'nearByCities_timestamp': '2013-03-20T15:21:00+00:00',\n",
       "   'hotels': [{'provider': 'hotel.info',\n",
       "     'name': 'Hotel Le Compostelle Le Marais',\n",
       "     'description': \"<p>L&rsquo;H&ocirc;tel Le Compostelle, situ&eacute; dans le quartier pittoresque du Marais, <br />sera le point de d&eacute;part des promenade au c&oelig;ur du Paris historique et <br />culturel tels que les Mus&eacute;es Carnavalet et Picasso, La Place des Vosges, <br />l&rsquo;Ile Saint Louis et Notre-Dame, le Centre Pompidou ou encore le Louvre <br />ou l&rsquo;Op&eacute;ra Bastille.</p>\\nHoraires d'ouverture de la réception:\\nTous les jours:\\tde 00:00 à 00:00\\n\",\n",
       "     'nativeId': '176149',\n",
       "     'picture': 'http://www.hotel.de/media/hotel/pictures/176/176149/176149_aussen.jpg',\n",
       "     'url': 'http://www.hotel.info/Booking.aspx?h_hmid=176149&han=4374478'}],\n",
       "   'lastUpdate': '2019-03-31T21:02:46+00:00',\n",
       "   'hotels_version': 1,\n",
       "   'compressed': 1,\n",
       "   'region': 'Île-de-France',\n",
       "   'translations_timestamp': '2014-04-26T09:00:24+00:00'}],\n",
       " 'travel': {'general': {'countries': \"<a href='http://www.ebeijing.gov.cn/' target='_blank'>Pékin</a> (Population : 19\\xa0612\\xa0368) est située en <a href='/Chine'>Chine</a>. <a href='http://www.paris.fr/' target='_blank'>Paris</a> (Population : 2\\xa0211\\xa0297) est située en Île-de-France , <a href='/France'>France</a>. Chine est située en Asie. France est située en Europe.\"},\n",
       "  'exchangeRate': {'exchangeRate': 0.1282518036497383,\n",
       "   'formatted': 'Le taux de change est de <strong>100,00 CNY = 12,83 EUR</strong> ou <strong>100,00 EUR = 779,72 CNY</strong>.'},\n",
       "  'origin': {'zoneInfo': {'image': 'http://upload.wikimedia.org/wikipedia/commons/9/94/Timezones2008_UTC%2B8.png',\n",
       "    'thumbnail': 'http://upload.wikimedia.org/wikipedia/commons/thumb/9/94/Timezones2008_UTC%2B8.png/200px-Timezones2008_UTC%2B8.png',\n",
       "    'offsetMinutes': 480,\n",
       "    'description': 'UTC+8 est un fuseau horaire, en avance de 8 heures sur UTC.',\n",
       "    'offsetMinutesFormatted': '+08:00',\n",
       "    'page': 'http://en.wikipedia.org/wiki/UTC%2B08:00',\n",
       "    'lang': 'fr',\n",
       "    'key': 'http://dbpedia.org/resource/UTC+08:00'},\n",
       "   'currency': {'currencyName': 'yuan renminbi chinois',\n",
       "    'exchangeRateToUsd': 7.069,\n",
       "    'message': 'La devise de la Chine est yuan renminbi chinois.',\n",
       "    'currencyCode': 'CNY'},\n",
       "   'time': 'dist.app.imp.LocalTime$LocalTimeInfo@297ea7d7'},\n",
       "  'destination': {'currency': {'currencyName': 'euro',\n",
       "    'exchangeRateToUsd': 0.906612,\n",
       "    'message': 'La devise de la France est euro.',\n",
       "    'currencyCode': 'EUR'},\n",
       "   'time': 'dist.app.imp.LocalTime$LocalTimeInfo@edeac62'},\n",
       "  'timeOffset': {'offsetMins': -360, 'formatted': '6 heure(s)'},\n",
       "  'airports': 0}}"
      ]
     },
     "execution_count": 38,
     "metadata": {},
     "output_type": "execute_result"
    }
   ],
   "source": [
    "get_distance_between('beijing','Paris')"
   ]
  },
  {
   "cell_type": "code",
   "execution_count": 49,
   "metadata": {
    "ExecuteTime": {
     "end_time": "2019-10-18T14:22:47.773188Z",
     "start_time": "2019-10-18T14:22:46.858586Z"
    }
   },
   "outputs": [],
   "source": [
    "cities = get_biggest_cities()"
   ]
  },
  {
   "cell_type": "code",
   "execution_count": 50,
   "metadata": {
    "ExecuteTime": {
     "end_time": "2019-10-18T14:22:56.694969Z",
     "start_time": "2019-10-18T14:22:56.691057Z"
    }
   },
   "outputs": [],
   "source": [
    "combinations = list(itertools.combinations(cities, 2))"
   ]
  },
  {
   "cell_type": "code",
   "execution_count": 51,
   "metadata": {
    "ExecuteTime": {
     "end_time": "2019-10-18T14:47:54.121051Z",
     "start_time": "2019-10-18T14:23:01.168602Z"
    }
   },
   "outputs": [],
   "source": [
    "distances = []\n",
    "for origin, dest in combinations:\n",
    "    distance = get_distance_between(origin, dest)\n",
    "    distances.append(distance)"
   ]
  },
  {
   "cell_type": "code",
   "execution_count": 52,
   "metadata": {
    "ExecuteTime": {
     "end_time": "2019-10-18T14:47:54.241629Z",
     "start_time": "2019-10-18T14:47:54.128825Z"
    }
   },
   "outputs": [],
   "source": [
    "df = pd.DataFrame(combinations, columns=['origin', 'dest'])\n",
    "df['distance'] = distances"
   ]
  },
  {
   "cell_type": "code",
   "execution_count": 53,
   "metadata": {
    "ExecuteTime": {
     "end_time": "2019-10-18T14:47:57.600472Z",
     "start_time": "2019-10-18T14:47:54.247133Z"
    }
   },
   "outputs": [
    {
     "data": {
      "text/html": [
       "<div>\n",
       "<style scoped>\n",
       "    .dataframe tbody tr th:only-of-type {\n",
       "        vertical-align: middle;\n",
       "    }\n",
       "\n",
       "    .dataframe tbody tr th {\n",
       "        vertical-align: top;\n",
       "    }\n",
       "\n",
       "    .dataframe thead th {\n",
       "        text-align: right;\n",
       "    }\n",
       "</style>\n",
       "<table border=\"1\" class=\"dataframe\">\n",
       "  <thead>\n",
       "    <tr style=\"text-align: right;\">\n",
       "      <th></th>\n",
       "      <th>origin</th>\n",
       "      <th>dest</th>\n",
       "      <th>distance</th>\n",
       "    </tr>\n",
       "  </thead>\n",
       "  <tbody>\n",
       "    <tr>\n",
       "      <th>0</th>\n",
       "      <td>Paris</td>\n",
       "      <td>Marseille</td>\n",
       "      <td>{'distances': [661], 'distance': 661, 'stops':...</td>\n",
       "    </tr>\n",
       "    <tr>\n",
       "      <th>1</th>\n",
       "      <td>Paris</td>\n",
       "      <td>Lyon</td>\n",
       "      <td>{'distances': [392], 'distance': 392, 'stops':...</td>\n",
       "    </tr>\n",
       "    <tr>\n",
       "      <th>2</th>\n",
       "      <td>Paris</td>\n",
       "      <td>Toulouse</td>\n",
       "      <td>{'distances': [589], 'distance': 589, 'stops':...</td>\n",
       "    </tr>\n",
       "    <tr>\n",
       "      <th>3</th>\n",
       "      <td>Paris</td>\n",
       "      <td>Nice</td>\n",
       "      <td>{'distances': [688], 'distance': 688, 'stops':...</td>\n",
       "    </tr>\n",
       "    <tr>\n",
       "      <th>4</th>\n",
       "      <td>Paris</td>\n",
       "      <td>Nantes</td>\n",
       "      <td>{'distances': [343], 'distance': 343, 'stops':...</td>\n",
       "    </tr>\n",
       "    <tr>\n",
       "      <th>5</th>\n",
       "      <td>Paris</td>\n",
       "      <td>Montpellier</td>\n",
       "      <td>{'distances': [596], 'distance': 596, 'stops':...</td>\n",
       "    </tr>\n",
       "    <tr>\n",
       "      <th>6</th>\n",
       "      <td>Paris</td>\n",
       "      <td>Strasbourg</td>\n",
       "      <td>{'distances': [397], 'distance': 397, 'stops':...</td>\n",
       "    </tr>\n",
       "    <tr>\n",
       "      <th>7</th>\n",
       "      <td>Paris</td>\n",
       "      <td>Bordeaux</td>\n",
       "      <td>{'distances': [500], 'distance': 500, 'stops':...</td>\n",
       "    </tr>\n",
       "    <tr>\n",
       "      <th>8</th>\n",
       "      <td>Paris</td>\n",
       "      <td>Lille</td>\n",
       "      <td>{'distances': [204], 'distance': 204, 'stops':...</td>\n",
       "    </tr>\n",
       "    <tr>\n",
       "      <th>9</th>\n",
       "      <td>Paris</td>\n",
       "      <td>Rennes</td>\n",
       "      <td>{'distances': [309], 'distance': 309, 'stops':...</td>\n",
       "    </tr>\n",
       "    <tr>\n",
       "      <th>10</th>\n",
       "      <td>Paris</td>\n",
       "      <td>Reims</td>\n",
       "      <td>{'distances': [130], 'distance': 130, 'stops':...</td>\n",
       "    </tr>\n",
       "    <tr>\n",
       "      <th>11</th>\n",
       "      <td>Paris</td>\n",
       "      <td>Saint-Étienne</td>\n",
       "      <td>{'distances': [406], 'distance': 406, 'stops':...</td>\n",
       "    </tr>\n",
       "    <tr>\n",
       "      <th>12</th>\n",
       "      <td>Paris</td>\n",
       "      <td>Le Havre</td>\n",
       "      <td>{'distances': [178], 'distance': 178, 'stops':...</td>\n",
       "    </tr>\n",
       "    <tr>\n",
       "      <th>13</th>\n",
       "      <td>Paris</td>\n",
       "      <td>Toulon</td>\n",
       "      <td>{'distances': [695], 'distance': 695, 'stops':...</td>\n",
       "    </tr>\n",
       "    <tr>\n",
       "      <th>14</th>\n",
       "      <td>Paris</td>\n",
       "      <td>Grenoble</td>\n",
       "      <td>{'distances': [482], 'distance': 482, 'stops':...</td>\n",
       "    </tr>\n",
       "    <tr>\n",
       "      <th>15</th>\n",
       "      <td>Paris</td>\n",
       "      <td>Dijon</td>\n",
       "      <td>{'distances': [263], 'distance': 263, 'stops':...</td>\n",
       "    </tr>\n",
       "    <tr>\n",
       "      <th>16</th>\n",
       "      <td>Paris</td>\n",
       "      <td>Angers</td>\n",
       "      <td>{'distances': [265], 'distance': 265, 'stops':...</td>\n",
       "    </tr>\n",
       "    <tr>\n",
       "      <th>17</th>\n",
       "      <td>Paris</td>\n",
       "      <td>Nîmes</td>\n",
       "      <td>{'distances': [580], 'distance': 580, 'stops':...</td>\n",
       "    </tr>\n",
       "    <tr>\n",
       "      <th>18</th>\n",
       "      <td>Paris</td>\n",
       "      <td>Villeurbanne</td>\n",
       "      <td>{'distances': [393], 'distance': 393, 'stops':...</td>\n",
       "    </tr>\n",
       "    <tr>\n",
       "      <th>19</th>\n",
       "      <td>Paris</td>\n",
       "      <td>Saint-Denis</td>\n",
       "      <td>{'distances': [9], 'distance': 9, 'stops': [{'...</td>\n",
       "    </tr>\n",
       "    <tr>\n",
       "      <th>20</th>\n",
       "      <td>Paris</td>\n",
       "      <td>Aix-en-Provence</td>\n",
       "      <td>{'distances': [639], 'distance': 639, 'stops':...</td>\n",
       "    </tr>\n",
       "    <tr>\n",
       "      <th>21</th>\n",
       "      <td>Paris</td>\n",
       "      <td>Le Mans</td>\n",
       "      <td>{'distances': [185], 'distance': 185, 'stops':...</td>\n",
       "    </tr>\n",
       "    <tr>\n",
       "      <th>22</th>\n",
       "      <td>Paris</td>\n",
       "      <td>Clermont-Ferrand</td>\n",
       "      <td>{'distances': [347], 'distance': 347, 'stops':...</td>\n",
       "    </tr>\n",
       "    <tr>\n",
       "      <th>23</th>\n",
       "      <td>Paris</td>\n",
       "      <td>Brest</td>\n",
       "      <td>{'distances': [506], 'distance': 506, 'stops':...</td>\n",
       "    </tr>\n",
       "    <tr>\n",
       "      <th>24</th>\n",
       "      <td>Paris</td>\n",
       "      <td>Tours</td>\n",
       "      <td>{'distances': [205], 'distance': 205, 'stops':...</td>\n",
       "    </tr>\n",
       "    <tr>\n",
       "      <th>25</th>\n",
       "      <td>Paris</td>\n",
       "      <td>Amiens</td>\n",
       "      <td>{'distances': [116], 'distance': 116, 'stops':...</td>\n",
       "    </tr>\n",
       "    <tr>\n",
       "      <th>26</th>\n",
       "      <td>Paris</td>\n",
       "      <td>Limoges</td>\n",
       "      <td>{'distances': [347], 'distance': 347, 'stops':...</td>\n",
       "    </tr>\n",
       "    <tr>\n",
       "      <th>27</th>\n",
       "      <td>Paris</td>\n",
       "      <td>Annecy</td>\n",
       "      <td>{'distances': [435], 'distance': 435, 'stops':...</td>\n",
       "    </tr>\n",
       "    <tr>\n",
       "      <th>28</th>\n",
       "      <td>Paris</td>\n",
       "      <td>Perpignan</td>\n",
       "      <td>{'distances': [687], 'distance': 687, 'stops':...</td>\n",
       "    </tr>\n",
       "    <tr>\n",
       "      <th>29</th>\n",
       "      <td>Paris</td>\n",
       "      <td>Boulogne-Billancourt</td>\n",
       "      <td>{'distances': [9], 'distance': 9, 'stops': [{'...</td>\n",
       "    </tr>\n",
       "    <tr>\n",
       "      <th>...</th>\n",
       "      <td>...</td>\n",
       "      <td>...</td>\n",
       "      <td>...</td>\n",
       "    </tr>\n",
       "    <tr>\n",
       "      <th>4920</th>\n",
       "      <td>Troyes</td>\n",
       "      <td>Lorient</td>\n",
       "      <td>{'distances': [558], 'distance': 558, 'stops':...</td>\n",
       "    </tr>\n",
       "    <tr>\n",
       "      <th>4921</th>\n",
       "      <td>Troyes</td>\n",
       "      <td>Beauvais</td>\n",
       "      <td>{'distances': [193], 'distance': 193, 'stops':...</td>\n",
       "    </tr>\n",
       "    <tr>\n",
       "      <th>4922</th>\n",
       "      <td>Cayenne</td>\n",
       "      <td>Neuilly-sur-Seine</td>\n",
       "      <td>{'distances': [7085], 'distance': 7085, 'stops...</td>\n",
       "    </tr>\n",
       "    <tr>\n",
       "      <th>4923</th>\n",
       "      <td>Cayenne</td>\n",
       "      <td>Montauban</td>\n",
       "      <td>{'distances': [6798], 'distance': 6798, 'stops...</td>\n",
       "    </tr>\n",
       "    <tr>\n",
       "      <th>4924</th>\n",
       "      <td>Cayenne</td>\n",
       "      <td>Chambéry</td>\n",
       "      <td>{'distances': [7197], 'distance': 7197, 'stops...</td>\n",
       "    </tr>\n",
       "    <tr>\n",
       "      <th>4925</th>\n",
       "      <td>Cayenne</td>\n",
       "      <td>Niort</td>\n",
       "      <td>{'distances': [6777], 'distance': 6777, 'stops...</td>\n",
       "    </tr>\n",
       "    <tr>\n",
       "      <th>4926</th>\n",
       "      <td>Cayenne</td>\n",
       "      <td>Sarcelles</td>\n",
       "      <td>{'distances': [7098], 'distance': 7098, 'stops...</td>\n",
       "    </tr>\n",
       "    <tr>\n",
       "      <th>4927</th>\n",
       "      <td>Cayenne</td>\n",
       "      <td>Lorient</td>\n",
       "      <td>{'distances': [6656], 'distance': 6656, 'stops...</td>\n",
       "    </tr>\n",
       "    <tr>\n",
       "      <th>4928</th>\n",
       "      <td>Cayenne</td>\n",
       "      <td>Beauvais</td>\n",
       "      <td>{'distances': [7099], 'distance': 7099, 'stops...</td>\n",
       "    </tr>\n",
       "    <tr>\n",
       "      <th>4929</th>\n",
       "      <td>Neuilly-sur-Seine</td>\n",
       "      <td>Montauban</td>\n",
       "      <td>{'distances': [547], 'distance': 547, 'stops':...</td>\n",
       "    </tr>\n",
       "    <tr>\n",
       "      <th>4930</th>\n",
       "      <td>Neuilly-sur-Seine</td>\n",
       "      <td>Chambéry</td>\n",
       "      <td>{'distances': [461], 'distance': 461, 'stops':...</td>\n",
       "    </tr>\n",
       "    <tr>\n",
       "      <th>4931</th>\n",
       "      <td>Neuilly-sur-Seine</td>\n",
       "      <td>Niort</td>\n",
       "      <td>{'distances': [351], 'distance': 351, 'stops':...</td>\n",
       "    </tr>\n",
       "    <tr>\n",
       "      <th>4932</th>\n",
       "      <td>Neuilly-sur-Seine</td>\n",
       "      <td>Sarcelles</td>\n",
       "      <td>{'distances': [15], 'distance': 15, 'stops': [...</td>\n",
       "    </tr>\n",
       "    <tr>\n",
       "      <th>4933</th>\n",
       "      <td>Neuilly-sur-Seine</td>\n",
       "      <td>Lorient</td>\n",
       "      <td>{'distances': [436], 'distance': 436, 'stops':...</td>\n",
       "    </tr>\n",
       "    <tr>\n",
       "      <th>4934</th>\n",
       "      <td>Neuilly-sur-Seine</td>\n",
       "      <td>Beauvais</td>\n",
       "      <td>{'distances': [62], 'distance': 62, 'stops': [...</td>\n",
       "    </tr>\n",
       "    <tr>\n",
       "      <th>4935</th>\n",
       "      <td>Montauban</td>\n",
       "      <td>Chambéry</td>\n",
       "      <td>{'distances': [400], 'distance': 400, 'stops':...</td>\n",
       "    </tr>\n",
       "    <tr>\n",
       "      <th>4936</th>\n",
       "      <td>Montauban</td>\n",
       "      <td>Niort</td>\n",
       "      <td>{'distances': [294], 'distance': 294, 'stops':...</td>\n",
       "    </tr>\n",
       "    <tr>\n",
       "      <th>4937</th>\n",
       "      <td>Montauban</td>\n",
       "      <td>Sarcelles</td>\n",
       "      <td>{'distances': [560], 'distance': 560, 'stops':...</td>\n",
       "    </tr>\n",
       "    <tr>\n",
       "      <th>4938</th>\n",
       "      <td>Montauban</td>\n",
       "      <td>Lorient</td>\n",
       "      <td>{'distances': [554], 'distance': 554, 'stops':...</td>\n",
       "    </tr>\n",
       "    <tr>\n",
       "      <th>4939</th>\n",
       "      <td>Montauban</td>\n",
       "      <td>Beauvais</td>\n",
       "      <td>{'distances': [605], 'distance': 605, 'stops':...</td>\n",
       "    </tr>\n",
       "    <tr>\n",
       "      <th>4940</th>\n",
       "      <td>Chambéry</td>\n",
       "      <td>Niort</td>\n",
       "      <td>{'distances': [501], 'distance': 501, 'stops':...</td>\n",
       "    </tr>\n",
       "    <tr>\n",
       "      <th>4941</th>\n",
       "      <td>Chambéry</td>\n",
       "      <td>Sarcelles</td>\n",
       "      <td>{'distances': [466], 'distance': 466, 'stops':...</td>\n",
       "    </tr>\n",
       "    <tr>\n",
       "      <th>4942</th>\n",
       "      <td>Chambéry</td>\n",
       "      <td>Lorient</td>\n",
       "      <td>{'distances': [750], 'distance': 750, 'stops':...</td>\n",
       "    </tr>\n",
       "    <tr>\n",
       "      <th>4943</th>\n",
       "      <td>Chambéry</td>\n",
       "      <td>Beauvais</td>\n",
       "      <td>{'distances': [518], 'distance': 518, 'stops':...</td>\n",
       "    </tr>\n",
       "    <tr>\n",
       "      <th>4944</th>\n",
       "      <td>Niort</td>\n",
       "      <td>Sarcelles</td>\n",
       "      <td>{'distances': [366], 'distance': 366, 'stops':...</td>\n",
       "    </tr>\n",
       "    <tr>\n",
       "      <th>4945</th>\n",
       "      <td>Niort</td>\n",
       "      <td>Lorient</td>\n",
       "      <td>{'distances': [272], 'distance': 272, 'stops':...</td>\n",
       "    </tr>\n",
       "    <tr>\n",
       "      <th>4946</th>\n",
       "      <td>Niort</td>\n",
       "      <td>Beauvais</td>\n",
       "      <td>{'distances': [395], 'distance': 395, 'stops':...</td>\n",
       "    </tr>\n",
       "    <tr>\n",
       "      <th>4947</th>\n",
       "      <td>Sarcelles</td>\n",
       "      <td>Lorient</td>\n",
       "      <td>{'distances': [447], 'distance': 447, 'stops':...</td>\n",
       "    </tr>\n",
       "    <tr>\n",
       "      <th>4948</th>\n",
       "      <td>Sarcelles</td>\n",
       "      <td>Beauvais</td>\n",
       "      <td>{'distances': [53], 'distance': 53, 'stops': [...</td>\n",
       "    </tr>\n",
       "    <tr>\n",
       "      <th>4949</th>\n",
       "      <td>Lorient</td>\n",
       "      <td>Beauvais</td>\n",
       "      <td>{'distances': [443], 'distance': 443, 'stops':...</td>\n",
       "    </tr>\n",
       "  </tbody>\n",
       "</table>\n",
       "<p>4950 rows × 3 columns</p>\n",
       "</div>"
      ],
      "text/plain": [
       "                 origin                  dest  \\\n",
       "0                 Paris             Marseille   \n",
       "1                 Paris                  Lyon   \n",
       "2                 Paris              Toulouse   \n",
       "3                 Paris                  Nice   \n",
       "4                 Paris                Nantes   \n",
       "5                 Paris           Montpellier   \n",
       "6                 Paris            Strasbourg   \n",
       "7                 Paris              Bordeaux   \n",
       "8                 Paris                 Lille   \n",
       "9                 Paris                Rennes   \n",
       "10                Paris                 Reims   \n",
       "11                Paris         Saint-Étienne   \n",
       "12                Paris              Le Havre   \n",
       "13                Paris                Toulon   \n",
       "14                Paris              Grenoble   \n",
       "15                Paris                 Dijon   \n",
       "16                Paris                Angers   \n",
       "17                Paris                 Nîmes   \n",
       "18                Paris          Villeurbanne   \n",
       "19                Paris           Saint-Denis   \n",
       "20                Paris       Aix-en-Provence   \n",
       "21                Paris               Le Mans   \n",
       "22                Paris      Clermont-Ferrand   \n",
       "23                Paris                 Brest   \n",
       "24                Paris                 Tours   \n",
       "25                Paris                Amiens   \n",
       "26                Paris               Limoges   \n",
       "27                Paris                Annecy   \n",
       "28                Paris             Perpignan   \n",
       "29                Paris  Boulogne-Billancourt   \n",
       "...                 ...                   ...   \n",
       "4920             Troyes               Lorient   \n",
       "4921             Troyes              Beauvais   \n",
       "4922            Cayenne     Neuilly-sur-Seine   \n",
       "4923            Cayenne             Montauban   \n",
       "4924            Cayenne              Chambéry   \n",
       "4925            Cayenne                 Niort   \n",
       "4926            Cayenne             Sarcelles   \n",
       "4927            Cayenne               Lorient   \n",
       "4928            Cayenne              Beauvais   \n",
       "4929  Neuilly-sur-Seine             Montauban   \n",
       "4930  Neuilly-sur-Seine              Chambéry   \n",
       "4931  Neuilly-sur-Seine                 Niort   \n",
       "4932  Neuilly-sur-Seine             Sarcelles   \n",
       "4933  Neuilly-sur-Seine               Lorient   \n",
       "4934  Neuilly-sur-Seine              Beauvais   \n",
       "4935          Montauban              Chambéry   \n",
       "4936          Montauban                 Niort   \n",
       "4937          Montauban             Sarcelles   \n",
       "4938          Montauban               Lorient   \n",
       "4939          Montauban              Beauvais   \n",
       "4940           Chambéry                 Niort   \n",
       "4941           Chambéry             Sarcelles   \n",
       "4942           Chambéry               Lorient   \n",
       "4943           Chambéry              Beauvais   \n",
       "4944              Niort             Sarcelles   \n",
       "4945              Niort               Lorient   \n",
       "4946              Niort              Beauvais   \n",
       "4947          Sarcelles               Lorient   \n",
       "4948          Sarcelles              Beauvais   \n",
       "4949            Lorient              Beauvais   \n",
       "\n",
       "                                               distance  \n",
       "0     {'distances': [661], 'distance': 661, 'stops':...  \n",
       "1     {'distances': [392], 'distance': 392, 'stops':...  \n",
       "2     {'distances': [589], 'distance': 589, 'stops':...  \n",
       "3     {'distances': [688], 'distance': 688, 'stops':...  \n",
       "4     {'distances': [343], 'distance': 343, 'stops':...  \n",
       "5     {'distances': [596], 'distance': 596, 'stops':...  \n",
       "6     {'distances': [397], 'distance': 397, 'stops':...  \n",
       "7     {'distances': [500], 'distance': 500, 'stops':...  \n",
       "8     {'distances': [204], 'distance': 204, 'stops':...  \n",
       "9     {'distances': [309], 'distance': 309, 'stops':...  \n",
       "10    {'distances': [130], 'distance': 130, 'stops':...  \n",
       "11    {'distances': [406], 'distance': 406, 'stops':...  \n",
       "12    {'distances': [178], 'distance': 178, 'stops':...  \n",
       "13    {'distances': [695], 'distance': 695, 'stops':...  \n",
       "14    {'distances': [482], 'distance': 482, 'stops':...  \n",
       "15    {'distances': [263], 'distance': 263, 'stops':...  \n",
       "16    {'distances': [265], 'distance': 265, 'stops':...  \n",
       "17    {'distances': [580], 'distance': 580, 'stops':...  \n",
       "18    {'distances': [393], 'distance': 393, 'stops':...  \n",
       "19    {'distances': [9], 'distance': 9, 'stops': [{'...  \n",
       "20    {'distances': [639], 'distance': 639, 'stops':...  \n",
       "21    {'distances': [185], 'distance': 185, 'stops':...  \n",
       "22    {'distances': [347], 'distance': 347, 'stops':...  \n",
       "23    {'distances': [506], 'distance': 506, 'stops':...  \n",
       "24    {'distances': [205], 'distance': 205, 'stops':...  \n",
       "25    {'distances': [116], 'distance': 116, 'stops':...  \n",
       "26    {'distances': [347], 'distance': 347, 'stops':...  \n",
       "27    {'distances': [435], 'distance': 435, 'stops':...  \n",
       "28    {'distances': [687], 'distance': 687, 'stops':...  \n",
       "29    {'distances': [9], 'distance': 9, 'stops': [{'...  \n",
       "...                                                 ...  \n",
       "4920  {'distances': [558], 'distance': 558, 'stops':...  \n",
       "4921  {'distances': [193], 'distance': 193, 'stops':...  \n",
       "4922  {'distances': [7085], 'distance': 7085, 'stops...  \n",
       "4923  {'distances': [6798], 'distance': 6798, 'stops...  \n",
       "4924  {'distances': [7197], 'distance': 7197, 'stops...  \n",
       "4925  {'distances': [6777], 'distance': 6777, 'stops...  \n",
       "4926  {'distances': [7098], 'distance': 7098, 'stops...  \n",
       "4927  {'distances': [6656], 'distance': 6656, 'stops...  \n",
       "4928  {'distances': [7099], 'distance': 7099, 'stops...  \n",
       "4929  {'distances': [547], 'distance': 547, 'stops':...  \n",
       "4930  {'distances': [461], 'distance': 461, 'stops':...  \n",
       "4931  {'distances': [351], 'distance': 351, 'stops':...  \n",
       "4932  {'distances': [15], 'distance': 15, 'stops': [...  \n",
       "4933  {'distances': [436], 'distance': 436, 'stops':...  \n",
       "4934  {'distances': [62], 'distance': 62, 'stops': [...  \n",
       "4935  {'distances': [400], 'distance': 400, 'stops':...  \n",
       "4936  {'distances': [294], 'distance': 294, 'stops':...  \n",
       "4937  {'distances': [560], 'distance': 560, 'stops':...  \n",
       "4938  {'distances': [554], 'distance': 554, 'stops':...  \n",
       "4939  {'distances': [605], 'distance': 605, 'stops':...  \n",
       "4940  {'distances': [501], 'distance': 501, 'stops':...  \n",
       "4941  {'distances': [466], 'distance': 466, 'stops':...  \n",
       "4942  {'distances': [750], 'distance': 750, 'stops':...  \n",
       "4943  {'distances': [518], 'distance': 518, 'stops':...  \n",
       "4944  {'distances': [366], 'distance': 366, 'stops':...  \n",
       "4945  {'distances': [272], 'distance': 272, 'stops':...  \n",
       "4946  {'distances': [395], 'distance': 395, 'stops':...  \n",
       "4947  {'distances': [447], 'distance': 447, 'stops':...  \n",
       "4948  {'distances': [53], 'distance': 53, 'stops': [...  \n",
       "4949  {'distances': [443], 'distance': 443, 'stops':...  \n",
       "\n",
       "[4950 rows x 3 columns]"
      ]
     },
     "execution_count": 53,
     "metadata": {},
     "output_type": "execute_result"
    }
   ],
   "source": [
    "df"
   ]
  },
  {
   "cell_type": "code",
   "execution_count": 1,
   "metadata": {
    "ExecuteTime": {
     "end_time": "2019-11-22T21:37:48.368201Z",
     "start_time": "2019-11-22T21:37:48.156070Z"
    }
   },
   "outputs": [
    {
     "ename": "NameError",
     "evalue": "name 'df' is not defined",
     "output_type": "error",
     "traceback": [
      "\u001b[0;31m---------------------------------------------------------------------------\u001b[0m",
      "\u001b[0;31mNameError\u001b[0m                                 Traceback (most recent call last)",
      "\u001b[0;32m<ipython-input-1-c168d9df7519>\u001b[0m in \u001b[0;36m<module>\u001b[0;34m\u001b[0m\n\u001b[0;32m----> 1\u001b[0;31m \u001b[0mdf\u001b[0m\u001b[0;34m.\u001b[0m\u001b[0msort_values\u001b[0m\u001b[0;34m(\u001b[0m\u001b[0;34m'distance'\u001b[0m\u001b[0;34m)\u001b[0m\u001b[0;34m\u001b[0m\u001b[0;34m\u001b[0m\u001b[0m\n\u001b[0m",
      "\u001b[0;31mNameError\u001b[0m: name 'df' is not defined"
     ]
    }
   ],
   "source": [
    "df.sort_values('distance')"
   ]
  },
  {
   "cell_type": "code",
   "execution_count": 55,
   "metadata": {
    "ExecuteTime": {
     "end_time": "2019-10-19T07:42:51.406510Z",
     "start_time": "2019-10-19T07:42:43.080026Z"
    }
   },
   "outputs": [
    {
     "name": "stdout",
     "output_type": "stream",
     "text": [
      "\r\n",
      "<!doctype html>\r\n",
      "<html class=\"no-js\" lang=\"fr-FR\"\r\n",
      "      data-original-lang=\"fr-FR\"\r\n",
      "      data-re\n"
     ]
    }
   ],
   "source": [
    "page = \"https://www.beerwulf.com/fr-fr/p/bieres/brasserie-de-sutter-brin-de-folie.33\"\n",
    "content = requests.get(page).text\n",
    "print(content[:100])"
   ]
  },
  {
   "cell_type": "code",
   "execution_count": 56,
   "metadata": {
    "ExecuteTime": {
     "end_time": "2019-10-19T07:43:11.687730Z",
     "start_time": "2019-10-19T07:43:10.440217Z"
    }
   },
   "outputs": [
    {
     "data": {
      "text/plain": [
       "54871"
      ]
     },
     "execution_count": 56,
     "metadata": {},
     "output_type": "execute_result"
    }
   ],
   "source": [
    "before_price = '<span class=\"price\">'\n",
    "idx = content.index(before_price)\n",
    "price = content[idx+len(before_price):idx+100]\n",
    "price = price.split('<')[0]\n",
    "idx"
   ]
  },
  {
   "cell_type": "code",
   "execution_count": 59,
   "metadata": {
    "ExecuteTime": {
     "end_time": "2019-10-19T07:44:15.022141Z",
     "start_time": "2019-10-19T07:44:15.008769Z"
    }
   },
   "outputs": [
    {
     "data": {
      "text/plain": [
       "'<span class=\"price\">€ 2,29</span>\\r\\n\\r\\n</div>\\r\\n\\r\\n\\r\\n                    </div>\\r\\n                    <di'"
      ]
     },
     "execution_count": 59,
     "metadata": {},
     "output_type": "execute_result"
    }
   ],
   "source": [
    "content[idx:idx+100]"
   ]
  },
  {
   "cell_type": "markdown",
   "metadata": {
    "ExecuteTime": {
     "end_time": "2019-10-19T08:04:29.695534Z",
     "start_time": "2019-10-19T08:04:29.017482Z"
    }
   },
   "source": [
    "###### from bs4 import BeautifulSoup\n",
    "\n",
    "\n",
    "soup = BeautifulSoup(requests.get(\n",
    "    \"https://www.beerwulf.com/fr-fr/p/bieres/brugse-zot-blond2\").text)\n",
    "\n",
    "# Extract price:\n",
    "price = soup.select('span.price')[0].text\n",
    "price = float(price[2:].replace(',', '.'))  # \"€ 2,29\" => 2.29\n",
    "\n",
    "# Extract volume:\n",
    "volume = soup.find('dt', text='Contenu').find_next_sibling()\n",
    "volume = int(volume.text[:-2])  # \"33cl\" => 33\n",
    "\n",
    "# Extract evaluation:\n",
    "note = soup.find('div', class_='stars')\n",
    "note = int(note.attrs['data-percent'])\n",
    "\n",
    "# Extract EBC:\n",
    "ebc = soup.find('div', class_='ebc')\n",
    "children = ebc.find_all('div')\n",
    "active_tag = ebc.find('div', class_='active')\n",
    "position = children.index(active_tag)\n",
    "ebc_pct = position / len(children) * 100\n",
    "\n",
    "infos = {\n",
    "    'price': price,\n",
    "    'volume': volume,\n",
    "    'note': note,\n",
    "    'ebc': ebc_pct,\n",
    "}"
   ]
  },
  {
   "cell_type": "code",
   "execution_count": 72,
   "metadata": {
    "ExecuteTime": {
     "end_time": "2019-10-19T08:07:09.530209Z",
     "start_time": "2019-10-19T08:07:09.523360Z"
    }
   },
   "outputs": [
    {
     "data": {
      "text/plain": [
       "'33cl'"
      ]
     },
     "execution_count": 72,
     "metadata": {},
     "output_type": "execute_result"
    }
   ],
   "source": [
    "volume = soup.find('dt', text='Contenu').find_next_sibling()\n",
    "volume.text"
   ]
  },
  {
   "cell_type": "code",
   "execution_count": 78,
   "metadata": {
    "ExecuteTime": {
     "end_time": "2019-10-19T08:24:46.234391Z",
     "start_time": "2019-10-19T08:24:46.188691Z"
    }
   },
   "outputs": [
    {
     "data": {
      "text/plain": [
       "bs4.element.NavigableString"
      ]
     },
     "execution_count": 78,
     "metadata": {},
     "output_type": "execute_result"
    }
   ],
   "source": [
    "tag=soup.dt\n",
    "type(tag.string)"
   ]
  },
  {
   "cell_type": "code",
   "execution_count": 79,
   "metadata": {
    "ExecuteTime": {
     "end_time": "2019-10-19T08:26:51.883519Z",
     "start_time": "2019-10-19T08:26:51.863734Z"
    }
   },
   "outputs": [
    {
     "data": {
      "text/plain": [
       "'[document]'"
      ]
     },
     "execution_count": 79,
     "metadata": {},
     "output_type": "execute_result"
    }
   ],
   "source": [
    "soup.name"
   ]
  },
  {
   "cell_type": "code",
   "execution_count": 83,
   "metadata": {
    "ExecuteTime": {
     "end_time": "2019-10-19T08:31:45.059251Z",
     "start_time": "2019-10-19T08:31:45.055316Z"
    }
   },
   "outputs": [
    {
     "data": {
      "text/plain": [
       "{'class': ['small-6', 'medium-3', 'columns']}"
      ]
     },
     "execution_count": 83,
     "metadata": {},
     "output_type": "execute_result"
    }
   ],
   "source": [
    "tag.attrs"
   ]
  },
  {
   "cell_type": "code",
   "execution_count": 87,
   "metadata": {
    "ExecuteTime": {
     "end_time": "2019-10-19T08:35:05.188520Z",
     "start_time": "2019-10-19T08:35:05.184940Z"
    }
   },
   "outputs": [
    {
     "data": {
      "text/plain": [
       "'Style'"
      ]
     },
     "execution_count": 87,
     "metadata": {},
     "output_type": "execute_result"
    }
   ],
   "source": [
    "tag.string"
   ]
  },
  {
   "cell_type": "code",
   "execution_count": 100,
   "metadata": {
    "ExecuteTime": {
     "end_time": "2019-10-19T08:38:46.731487Z",
     "start_time": "2019-10-19T08:38:46.723761Z"
    }
   },
   "outputs": [
    {
     "ename": "AttributeError",
     "evalue": "'generator' object has no attribute 'text'",
     "output_type": "error",
     "traceback": [
      "\u001b[0;31m---------------------------------------------------------------------------\u001b[0m",
      "\u001b[0;31mAttributeError\u001b[0m                            Traceback (most recent call last)",
      "\u001b[0;32m<ipython-input-100-afeb09693227>\u001b[0m in \u001b[0;36m<module>\u001b[0;34m\u001b[0m\n\u001b[0;32m----> 1\u001b[0;31m \u001b[0mtag\u001b[0m\u001b[0;34m.\u001b[0m\u001b[0mdescendants\u001b[0m\u001b[0;34m.\u001b[0m\u001b[0mtext\u001b[0m\u001b[0;34m\u001b[0m\u001b[0;34m\u001b[0m\u001b[0m\n\u001b[0m",
      "\u001b[0;31mAttributeError\u001b[0m: 'generator' object has no attribute 'text'"
     ]
    }
   ],
   "source": [
    "tag.descendants.text"
   ]
  },
  {
   "cell_type": "markdown",
   "metadata": {},
   "source": [
    "### fcbbcbcb"
   ]
  }
 ],
 "metadata": {
  "kernelspec": {
   "display_name": "Python 3",
   "language": "python",
   "name": "python3"
  },
  "language_info": {
   "codemirror_mode": {
    "name": "ipython",
    "version": 3
   },
   "file_extension": ".py",
   "mimetype": "text/x-python",
   "name": "python",
   "nbconvert_exporter": "python",
   "pygments_lexer": "ipython3",
   "version": "3.7.3"
  },
  "latex_envs": {
   "LaTeX_envs_menu_present": true,
   "autoclose": false,
   "autocomplete": true,
   "bibliofile": "biblio.bib",
   "cite_by": "apalike",
   "current_citInitial": 1,
   "eqLabelWithNumbers": true,
   "eqNumInitial": 1,
   "hotkeys": {
    "equation": "Ctrl-E",
    "itemize": "Ctrl-I"
   },
   "labels_anchors": false,
   "latex_user_defs": false,
   "report_style_numbering": false,
   "user_envs_cfg": false
  },
  "toc": {
   "base_numbering": 1,
   "nav_menu": {},
   "number_sections": true,
   "sideBar": true,
   "skip_h1_title": false,
   "title_cell": "Table of Contents",
   "title_sidebar": "Contents",
   "toc_cell": false,
   "toc_position": {},
   "toc_section_display": true,
   "toc_window_display": false
  }
 },
 "nbformat": 4,
 "nbformat_minor": 2
}
